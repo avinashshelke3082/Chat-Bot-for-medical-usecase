{
  "nbformat": 4,
  "nbformat_minor": 0,
  "metadata": {
    "colab": {
      "provenance": []
    },
    "kernelspec": {
      "name": "python3",
      "display_name": "Python 3"
    },
    "language_info": {
      "name": "python"
    }
  },
  "cells": [
    {
      "cell_type": "code",
      "execution_count": null,
      "metadata": {
        "id": "5-AIZE25XWR6"
      },
      "outputs": [],
      "source": [
        "import random\n",
        "import json\n",
        "import pickle\n",
        "import numpy as np\n",
        "import nltk\n",
        "from nltk.stem import WordNetLemmatizer\n",
        "import tensorflow"
      ]
    },
    {
      "cell_type": "code",
      "source": [
        "from tensorflow.keras.models import Sequential\n",
        "from tensorflow.keras.layers import Dense, Activation, Dropout\n",
        "from tensorflow.keras.optimizers import SGD"
      ],
      "metadata": {
        "id": "Z6nmcjUQgLMb"
      },
      "execution_count": null,
      "outputs": []
    },
    {
      "cell_type": "code",
      "source": [
        "nltk.download('punkt')\n",
        "nltk.download('wordnet')\n",
        "nltk.download('omw-1.4')"
      ],
      "metadata": {
        "colab": {
          "base_uri": "https://localhost:8080/"
        },
        "id": "7NogFuuV46Yj",
        "outputId": "53c6a261-998b-4603-e40a-f0e84ec4bd97"
      },
      "execution_count": null,
      "outputs": [
        {
          "output_type": "stream",
          "name": "stderr",
          "text": [
            "[nltk_data] Downloading package punkt to /root/nltk_data...\n",
            "[nltk_data]   Unzipping tokenizers/punkt.zip.\n",
            "[nltk_data] Downloading package wordnet to /root/nltk_data...\n",
            "[nltk_data] Downloading package omw-1.4 to /root/nltk_data...\n"
          ]
        },
        {
          "output_type": "execute_result",
          "data": {
            "text/plain": [
              "True"
            ]
          },
          "metadata": {},
          "execution_count": 3
        }
      ]
    },
    {
      "cell_type": "code",
      "source": [
        "lemmatizer = WordNetLemmatizer() # create an instance of WordNetLemmatizer\n",
        "\n",
        "intents = json.loads(open('/content/intents.json').read())\n",
        "\n",
        "words = []\n",
        "classes = []\n",
        "documents = []\n",
        "ignore_letters = ['?','!','.',',']\n",
        "\n",
        "for intent in intents['intents']:\n",
        "  for pattern in intent['patterns']:\n",
        "    word_list = nltk.word_tokenize(pattern)  # tokenize the sentence i.e. \"I am John\" to \"I\",\"am\",\"John\"\n",
        "    words.extend(word_list) #appending the tokenized word in the word_list\n",
        "    documents.append((word_list,intent['tag'])) # in documents we stored the the tokenized form of patterns along with the tag.\n",
        "    if(intent['tag'] not in classes): \n",
        "      classes.append(intent['tag'])  #storing the unique tags in the classes list\n",
        "# print(documents)\n",
        "#lemmatize \n",
        "words = [lemmatizer.lemmatize(word) for word in words if word not in ignore_letters] # lemmatize the word to its simplest meaningful form\n",
        "words = sorted(set(words)) # removing the duplicates in words\n",
        "# print(words)\n",
        " \n",
        "classes = sorted(set(classes)) # removing the duplicates classes (mostly not req.coz classes are unique and user defined)\n",
        "\n",
        "pickle.dump(words, open('words.pkl','wb'))\n",
        "pickle.dump(classes, open('classes.pkl','wb'))\n"
      ],
      "metadata": {
        "id": "yLtzh0qG1klm"
      },
      "execution_count": null,
      "outputs": []
    },
    {
      "cell_type": "code",
      "source": [
        "# converting the textual data into numeric data to feed into the neural network\n",
        "training =[]\n",
        "output_empty = [0] * len(classes) # initialized the list with the number of tags in intents.json\n",
        "\n",
        "for document in documents:  # document = (['How','are','you'],'greeting')\n",
        "  bag = []\n",
        "  word_patterns = document[0]  # document[0] consists of tokens eg. ['How','are','you']\n",
        "  word_patterns = [lemmatizer.lemmatize(word.lower()) for word in word_patterns] # lemmatizing the word along with converting it in lowercase.\n",
        "  for word in words: # words consists of tokens in lower as well as upper case.\n",
        "    bag.append(1) if word in word_patterns else bag.append(0) # bag is created with columns equal to size of words list \n",
        "    # 1 is appended where there is no need to check for mapping since the words are already in lowercase. \n",
        "  output_row = list(output_empty)\n",
        "  output_row[classes.index(document[1])] = 1  # document[1] consists of tags of that particular set of tokens\n",
        "  # output_row store 1 mapping to index of tag in classes.\n",
        "  training.append([bag,output_row]) #input is bag(tokens) and output is output_row(tags)\n",
        "\n",
        "\n",
        "random.shuffle(training)\n",
        "training = np.array(training)\n",
        "\n",
        "train_x = list(training[:,0]) # data corresponding to all rows and just the first column(bag)\n",
        "train_y = list(training[:,1]) # data corresponding to all rows and just the second column(output_row)\n",
        "\n",
        "# training of model8\n",
        "model = Sequential()\n",
        "model.add(Dense(128, input_shape=(len(train_x[0]),),activation='relu'))\n",
        "model.add(Dropout(0.5))\n",
        "model.add(Dense(64, activation='relu'))\n",
        "model.add(Dropout(0.5))\n",
        "model.add(Dense(len(train_y[0]),activation= 'softmax'))\n",
        "\n",
        "sgd = SGD(lr= 0.01,decay= 1e-6,momentum=0.9,nesterov=True)\n",
        "model.compile(loss='categorical_crossentropy',optimizer=sgd,metrics=['accuracy'])\n",
        "\n",
        "hist = model.fit(np.array(train_x),np.array(train_y),epochs=200,batch_size=5,verbose=1)\n"
      ],
      "metadata": {
        "id": "XekwfjpV3iwl",
        "colab": {
          "base_uri": "https://localhost:8080/"
        },
        "outputId": "39e1379e-18f6-44e5-9727-27373d198daf"
      },
      "execution_count": null,
      "outputs": [
        {
          "output_type": "stream",
          "name": "stderr",
          "text": [
            "<ipython-input-5-7b2c5f0eb7cb>:19: VisibleDeprecationWarning: Creating an ndarray from ragged nested sequences (which is a list-or-tuple of lists-or-tuples-or ndarrays with different lengths or shapes) is deprecated. If you meant to do this, you must specify 'dtype=object' when creating the ndarray.\n",
            "  training = np.array(training)\n",
            "/usr/local/lib/python3.8/dist-packages/keras/optimizers/optimizer_v2/gradient_descent.py:108: UserWarning: The `lr` argument is deprecated, use `learning_rate` instead.\n",
            "  super(SGD, self).__init__(name, **kwargs)\n"
          ]
        },
        {
          "output_type": "stream",
          "name": "stdout",
          "text": [
            "Epoch 1/200\n",
            "18/18 [==============================] - 1s 2ms/step - loss: 3.2635 - accuracy: 0.0341\n",
            "Epoch 2/200\n",
            "18/18 [==============================] - 0s 3ms/step - loss: 3.1388 - accuracy: 0.0455\n",
            "Epoch 3/200\n",
            "18/18 [==============================] - 0s 2ms/step - loss: 3.1022 - accuracy: 0.1364\n",
            "Epoch 4/200\n",
            "18/18 [==============================] - 0s 2ms/step - loss: 2.9743 - accuracy: 0.1477\n",
            "Epoch 5/200\n",
            "18/18 [==============================] - 0s 2ms/step - loss: 2.9320 - accuracy: 0.1705\n",
            "Epoch 6/200\n",
            "18/18 [==============================] - 0s 2ms/step - loss: 2.8050 - accuracy: 0.1932\n",
            "Epoch 7/200\n",
            "18/18 [==============================] - 0s 2ms/step - loss: 2.7076 - accuracy: 0.2273\n",
            "Epoch 8/200\n",
            "18/18 [==============================] - 0s 2ms/step - loss: 2.6139 - accuracy: 0.2045\n",
            "Epoch 9/200\n",
            "18/18 [==============================] - 0s 2ms/step - loss: 2.4529 - accuracy: 0.2614\n",
            "Epoch 10/200\n",
            "18/18 [==============================] - 0s 3ms/step - loss: 2.3972 - accuracy: 0.2727\n",
            "Epoch 11/200\n",
            "18/18 [==============================] - 0s 2ms/step - loss: 2.3224 - accuracy: 0.3182\n",
            "Epoch 12/200\n",
            "18/18 [==============================] - 0s 2ms/step - loss: 2.1943 - accuracy: 0.3409\n",
            "Epoch 13/200\n",
            "18/18 [==============================] - 0s 2ms/step - loss: 2.0027 - accuracy: 0.4318\n",
            "Epoch 14/200\n",
            "18/18 [==============================] - 0s 2ms/step - loss: 2.0231 - accuracy: 0.3636\n",
            "Epoch 15/200\n",
            "18/18 [==============================] - 0s 2ms/step - loss: 1.9058 - accuracy: 0.3523\n",
            "Epoch 16/200\n",
            "18/18 [==============================] - 0s 2ms/step - loss: 1.9678 - accuracy: 0.3409\n",
            "Epoch 17/200\n",
            "18/18 [==============================] - 0s 2ms/step - loss: 1.6412 - accuracy: 0.4773\n",
            "Epoch 18/200\n",
            "18/18 [==============================] - 0s 3ms/step - loss: 1.6803 - accuracy: 0.4545\n",
            "Epoch 19/200\n",
            "18/18 [==============================] - 0s 2ms/step - loss: 1.5597 - accuracy: 0.4318\n",
            "Epoch 20/200\n",
            "18/18 [==============================] - 0s 2ms/step - loss: 1.6990 - accuracy: 0.4432\n",
            "Epoch 21/200\n",
            "18/18 [==============================] - 0s 2ms/step - loss: 1.4706 - accuracy: 0.5455\n",
            "Epoch 22/200\n",
            "18/18 [==============================] - 0s 2ms/step - loss: 1.4884 - accuracy: 0.4773\n",
            "Epoch 23/200\n",
            "18/18 [==============================] - 0s 2ms/step - loss: 1.3778 - accuracy: 0.5455\n",
            "Epoch 24/200\n",
            "18/18 [==============================] - 0s 2ms/step - loss: 1.4060 - accuracy: 0.5341\n",
            "Epoch 25/200\n",
            "18/18 [==============================] - 0s 3ms/step - loss: 1.3259 - accuracy: 0.5341\n",
            "Epoch 26/200\n",
            "18/18 [==============================] - 0s 2ms/step - loss: 1.2506 - accuracy: 0.5568\n",
            "Epoch 27/200\n",
            "18/18 [==============================] - 0s 3ms/step - loss: 1.0322 - accuracy: 0.7386\n",
            "Epoch 28/200\n",
            "18/18 [==============================] - 0s 2ms/step - loss: 1.1917 - accuracy: 0.5909\n",
            "Epoch 29/200\n",
            "18/18 [==============================] - 0s 2ms/step - loss: 1.0516 - accuracy: 0.6932\n",
            "Epoch 30/200\n",
            "18/18 [==============================] - 0s 2ms/step - loss: 0.9641 - accuracy: 0.7386\n",
            "Epoch 31/200\n",
            "18/18 [==============================] - 0s 3ms/step - loss: 0.9937 - accuracy: 0.6818\n",
            "Epoch 32/200\n",
            "18/18 [==============================] - 0s 2ms/step - loss: 0.9353 - accuracy: 0.7273\n",
            "Epoch 33/200\n",
            "18/18 [==============================] - 0s 2ms/step - loss: 0.8430 - accuracy: 0.6818\n",
            "Epoch 34/200\n",
            "18/18 [==============================] - 0s 17ms/step - loss: 0.9170 - accuracy: 0.6705\n",
            "Epoch 35/200\n",
            "18/18 [==============================] - 0s 2ms/step - loss: 0.8897 - accuracy: 0.7386\n",
            "Epoch 36/200\n",
            "18/18 [==============================] - 0s 2ms/step - loss: 0.8899 - accuracy: 0.7500\n",
            "Epoch 37/200\n",
            "18/18 [==============================] - 0s 2ms/step - loss: 0.8259 - accuracy: 0.6818\n",
            "Epoch 38/200\n",
            "18/18 [==============================] - 0s 2ms/step - loss: 0.9406 - accuracy: 0.7386\n",
            "Epoch 39/200\n",
            "18/18 [==============================] - 0s 2ms/step - loss: 0.7814 - accuracy: 0.7500\n",
            "Epoch 40/200\n",
            "18/18 [==============================] - 0s 3ms/step - loss: 0.6874 - accuracy: 0.7614\n",
            "Epoch 41/200\n",
            "18/18 [==============================] - 0s 2ms/step - loss: 0.7967 - accuracy: 0.7500\n",
            "Epoch 42/200\n",
            "18/18 [==============================] - 0s 2ms/step - loss: 0.8179 - accuracy: 0.7500\n",
            "Epoch 43/200\n",
            "18/18 [==============================] - 0s 2ms/step - loss: 0.7604 - accuracy: 0.7614\n",
            "Epoch 44/200\n",
            "18/18 [==============================] - 0s 2ms/step - loss: 0.7159 - accuracy: 0.7727\n",
            "Epoch 45/200\n",
            "18/18 [==============================] - 0s 2ms/step - loss: 0.8796 - accuracy: 0.6818\n",
            "Epoch 46/200\n",
            "18/18 [==============================] - 0s 2ms/step - loss: 0.5932 - accuracy: 0.8068\n",
            "Epoch 47/200\n",
            "18/18 [==============================] - 0s 2ms/step - loss: 0.5936 - accuracy: 0.8068\n",
            "Epoch 48/200\n",
            "18/18 [==============================] - 0s 2ms/step - loss: 0.5054 - accuracy: 0.8636\n",
            "Epoch 49/200\n",
            "18/18 [==============================] - 0s 3ms/step - loss: 0.4645 - accuracy: 0.8409\n",
            "Epoch 50/200\n",
            "18/18 [==============================] - 0s 2ms/step - loss: 0.6919 - accuracy: 0.7614\n",
            "Epoch 51/200\n",
            "18/18 [==============================] - 0s 2ms/step - loss: 0.6244 - accuracy: 0.8068\n",
            "Epoch 52/200\n",
            "18/18 [==============================] - 0s 2ms/step - loss: 0.6147 - accuracy: 0.7614\n",
            "Epoch 53/200\n",
            "18/18 [==============================] - 0s 2ms/step - loss: 0.5143 - accuracy: 0.8182\n",
            "Epoch 54/200\n",
            "18/18 [==============================] - 0s 2ms/step - loss: 0.5606 - accuracy: 0.8295\n",
            "Epoch 55/200\n",
            "18/18 [==============================] - 0s 2ms/step - loss: 0.4974 - accuracy: 0.8409\n",
            "Epoch 56/200\n",
            "18/18 [==============================] - 0s 2ms/step - loss: 0.5501 - accuracy: 0.8068\n",
            "Epoch 57/200\n",
            "18/18 [==============================] - 0s 3ms/step - loss: 0.4958 - accuracy: 0.8409\n",
            "Epoch 58/200\n",
            "18/18 [==============================] - 0s 2ms/step - loss: 0.4081 - accuracy: 0.8636\n",
            "Epoch 59/200\n",
            "18/18 [==============================] - 0s 2ms/step - loss: 0.4464 - accuracy: 0.8409\n",
            "Epoch 60/200\n",
            "18/18 [==============================] - 0s 2ms/step - loss: 0.5672 - accuracy: 0.8068\n",
            "Epoch 61/200\n",
            "18/18 [==============================] - 0s 2ms/step - loss: 0.5064 - accuracy: 0.8295\n",
            "Epoch 62/200\n",
            "18/18 [==============================] - 0s 3ms/step - loss: 0.4724 - accuracy: 0.9091\n",
            "Epoch 63/200\n",
            "18/18 [==============================] - 0s 2ms/step - loss: 0.6021 - accuracy: 0.8068\n",
            "Epoch 64/200\n",
            "18/18 [==============================] - 0s 2ms/step - loss: 0.4340 - accuracy: 0.8068\n",
            "Epoch 65/200\n",
            "18/18 [==============================] - 0s 3ms/step - loss: 0.4153 - accuracy: 0.8750\n",
            "Epoch 66/200\n",
            "18/18 [==============================] - 0s 2ms/step - loss: 0.3086 - accuracy: 0.8977\n",
            "Epoch 67/200\n",
            "18/18 [==============================] - 0s 2ms/step - loss: 0.4875 - accuracy: 0.8182\n",
            "Epoch 68/200\n",
            "18/18 [==============================] - 0s 4ms/step - loss: 0.5778 - accuracy: 0.7955\n",
            "Epoch 69/200\n",
            "18/18 [==============================] - 0s 2ms/step - loss: 0.5490 - accuracy: 0.8182\n",
            "Epoch 70/200\n",
            "18/18 [==============================] - 0s 3ms/step - loss: 0.4163 - accuracy: 0.8636\n",
            "Epoch 71/200\n",
            "18/18 [==============================] - 0s 3ms/step - loss: 0.4320 - accuracy: 0.8636\n",
            "Epoch 72/200\n",
            "18/18 [==============================] - 0s 2ms/step - loss: 0.2608 - accuracy: 0.9091\n",
            "Epoch 73/200\n",
            "18/18 [==============================] - 0s 2ms/step - loss: 0.4704 - accuracy: 0.8523\n",
            "Epoch 74/200\n",
            "18/18 [==============================] - 0s 2ms/step - loss: 0.3087 - accuracy: 0.9318\n",
            "Epoch 75/200\n",
            "18/18 [==============================] - 0s 2ms/step - loss: 0.2638 - accuracy: 0.9205\n",
            "Epoch 76/200\n",
            "18/18 [==============================] - 0s 2ms/step - loss: 0.4569 - accuracy: 0.8409\n",
            "Epoch 77/200\n",
            "18/18 [==============================] - 0s 2ms/step - loss: 0.2471 - accuracy: 0.9318\n",
            "Epoch 78/200\n",
            "18/18 [==============================] - 0s 2ms/step - loss: 0.4327 - accuracy: 0.8523\n",
            "Epoch 79/200\n",
            "18/18 [==============================] - 0s 3ms/step - loss: 0.2765 - accuracy: 0.8864\n",
            "Epoch 80/200\n",
            "18/18 [==============================] - 0s 3ms/step - loss: 0.4404 - accuracy: 0.8409\n",
            "Epoch 81/200\n",
            "18/18 [==============================] - 0s 2ms/step - loss: 0.2672 - accuracy: 0.9318\n",
            "Epoch 82/200\n",
            "18/18 [==============================] - 0s 2ms/step - loss: 0.3998 - accuracy: 0.8864\n",
            "Epoch 83/200\n",
            "18/18 [==============================] - 0s 2ms/step - loss: 0.2389 - accuracy: 0.9318\n",
            "Epoch 84/200\n",
            "18/18 [==============================] - 0s 2ms/step - loss: 0.2663 - accuracy: 0.9205\n",
            "Epoch 85/200\n",
            "18/18 [==============================] - 0s 2ms/step - loss: 0.4000 - accuracy: 0.8636\n",
            "Epoch 86/200\n",
            "18/18 [==============================] - 0s 2ms/step - loss: 0.2721 - accuracy: 0.9091\n",
            "Epoch 87/200\n",
            "18/18 [==============================] - 0s 2ms/step - loss: 0.2890 - accuracy: 0.9091\n",
            "Epoch 88/200\n",
            "18/18 [==============================] - 0s 2ms/step - loss: 0.3079 - accuracy: 0.8864\n",
            "Epoch 89/200\n",
            "18/18 [==============================] - 0s 2ms/step - loss: 0.3349 - accuracy: 0.8864\n",
            "Epoch 90/200\n",
            "18/18 [==============================] - 0s 2ms/step - loss: 0.3074 - accuracy: 0.8864\n",
            "Epoch 91/200\n",
            "18/18 [==============================] - 0s 2ms/step - loss: 0.3348 - accuracy: 0.8864\n",
            "Epoch 92/200\n",
            "18/18 [==============================] - 0s 3ms/step - loss: 0.3156 - accuracy: 0.8750\n",
            "Epoch 93/200\n",
            "18/18 [==============================] - 0s 2ms/step - loss: 0.3384 - accuracy: 0.8750\n",
            "Epoch 94/200\n",
            "18/18 [==============================] - 0s 2ms/step - loss: 0.2643 - accuracy: 0.9318\n",
            "Epoch 95/200\n",
            "18/18 [==============================] - 0s 2ms/step - loss: 0.1877 - accuracy: 0.9432\n",
            "Epoch 96/200\n",
            "18/18 [==============================] - 0s 2ms/step - loss: 0.3446 - accuracy: 0.8523\n",
            "Epoch 97/200\n",
            "18/18 [==============================] - 0s 2ms/step - loss: 0.2712 - accuracy: 0.9318\n",
            "Epoch 98/200\n",
            "18/18 [==============================] - 0s 2ms/step - loss: 0.2122 - accuracy: 0.8977\n",
            "Epoch 99/200\n",
            "18/18 [==============================] - 0s 2ms/step - loss: 0.3358 - accuracy: 0.8750\n",
            "Epoch 100/200\n",
            "18/18 [==============================] - 0s 2ms/step - loss: 0.3700 - accuracy: 0.8864\n",
            "Epoch 101/200\n",
            "18/18 [==============================] - 0s 2ms/step - loss: 0.2152 - accuracy: 0.9205\n",
            "Epoch 102/200\n",
            "18/18 [==============================] - 0s 2ms/step - loss: 0.3636 - accuracy: 0.8636\n",
            "Epoch 103/200\n",
            "18/18 [==============================] - 0s 2ms/step - loss: 0.3054 - accuracy: 0.9205\n",
            "Epoch 104/200\n",
            "18/18 [==============================] - 0s 2ms/step - loss: 0.3276 - accuracy: 0.8750\n",
            "Epoch 105/200\n",
            "18/18 [==============================] - 0s 3ms/step - loss: 0.2135 - accuracy: 0.9205\n",
            "Epoch 106/200\n",
            "18/18 [==============================] - 0s 2ms/step - loss: 0.2155 - accuracy: 0.9432\n",
            "Epoch 107/200\n",
            "18/18 [==============================] - 0s 2ms/step - loss: 0.2973 - accuracy: 0.9091\n",
            "Epoch 108/200\n",
            "18/18 [==============================] - 0s 2ms/step - loss: 0.2078 - accuracy: 0.9205\n",
            "Epoch 109/200\n",
            "18/18 [==============================] - 0s 2ms/step - loss: 0.2394 - accuracy: 0.9205\n",
            "Epoch 110/200\n",
            "18/18 [==============================] - 0s 2ms/step - loss: 0.2277 - accuracy: 0.9205\n",
            "Epoch 111/200\n",
            "18/18 [==============================] - 0s 2ms/step - loss: 0.3778 - accuracy: 0.8864\n",
            "Epoch 112/200\n",
            "18/18 [==============================] - 0s 2ms/step - loss: 0.2760 - accuracy: 0.8864\n",
            "Epoch 113/200\n",
            "18/18 [==============================] - 0s 3ms/step - loss: 0.2393 - accuracy: 0.9091\n",
            "Epoch 114/200\n",
            "18/18 [==============================] - 0s 2ms/step - loss: 0.1797 - accuracy: 0.9318\n",
            "Epoch 115/200\n",
            "18/18 [==============================] - 0s 2ms/step - loss: 0.2941 - accuracy: 0.8636\n",
            "Epoch 116/200\n",
            "18/18 [==============================] - 0s 2ms/step - loss: 0.1986 - accuracy: 0.9205\n",
            "Epoch 117/200\n",
            "18/18 [==============================] - 0s 2ms/step - loss: 0.1879 - accuracy: 0.9205\n",
            "Epoch 118/200\n",
            "18/18 [==============================] - 0s 2ms/step - loss: 0.2679 - accuracy: 0.8977\n",
            "Epoch 119/200\n",
            "18/18 [==============================] - 0s 2ms/step - loss: 0.3285 - accuracy: 0.8636\n",
            "Epoch 120/200\n",
            "18/18 [==============================] - 0s 2ms/step - loss: 0.2391 - accuracy: 0.9318\n",
            "Epoch 121/200\n",
            "18/18 [==============================] - 0s 2ms/step - loss: 0.3007 - accuracy: 0.9091\n",
            "Epoch 122/200\n",
            "18/18 [==============================] - 0s 2ms/step - loss: 0.2484 - accuracy: 0.8977\n",
            "Epoch 123/200\n",
            "18/18 [==============================] - 0s 2ms/step - loss: 0.2202 - accuracy: 0.9318\n",
            "Epoch 124/200\n",
            "18/18 [==============================] - 0s 2ms/step - loss: 0.3433 - accuracy: 0.8636\n",
            "Epoch 125/200\n",
            "18/18 [==============================] - 0s 2ms/step - loss: 0.3555 - accuracy: 0.8750\n",
            "Epoch 126/200\n",
            "18/18 [==============================] - 0s 2ms/step - loss: 0.2696 - accuracy: 0.8977\n",
            "Epoch 127/200\n",
            "18/18 [==============================] - 0s 2ms/step - loss: 0.2998 - accuracy: 0.9091\n",
            "Epoch 128/200\n",
            "18/18 [==============================] - 0s 3ms/step - loss: 0.1644 - accuracy: 0.9545\n",
            "Epoch 129/200\n",
            "18/18 [==============================] - 0s 2ms/step - loss: 0.2425 - accuracy: 0.9318\n",
            "Epoch 130/200\n",
            "18/18 [==============================] - 0s 2ms/step - loss: 0.1673 - accuracy: 0.9773\n",
            "Epoch 131/200\n",
            "18/18 [==============================] - 0s 2ms/step - loss: 0.2664 - accuracy: 0.8977\n",
            "Epoch 132/200\n",
            "18/18 [==============================] - 0s 2ms/step - loss: 0.2040 - accuracy: 0.9432\n",
            "Epoch 133/200\n",
            "18/18 [==============================] - 0s 2ms/step - loss: 0.2249 - accuracy: 0.9432\n",
            "Epoch 134/200\n",
            "18/18 [==============================] - 0s 2ms/step - loss: 0.1816 - accuracy: 0.9205\n",
            "Epoch 135/200\n",
            "18/18 [==============================] - 0s 2ms/step - loss: 0.2779 - accuracy: 0.9091\n",
            "Epoch 136/200\n",
            "18/18 [==============================] - 0s 2ms/step - loss: 0.2952 - accuracy: 0.8864\n",
            "Epoch 137/200\n",
            "18/18 [==============================] - 0s 2ms/step - loss: 0.1787 - accuracy: 0.9659\n",
            "Epoch 138/200\n",
            "18/18 [==============================] - 0s 2ms/step - loss: 0.1793 - accuracy: 0.9091\n",
            "Epoch 139/200\n",
            "18/18 [==============================] - 0s 2ms/step - loss: 0.1464 - accuracy: 0.9545\n",
            "Epoch 140/200\n",
            "18/18 [==============================] - 0s 2ms/step - loss: 0.2328 - accuracy: 0.9205\n",
            "Epoch 141/200\n",
            "18/18 [==============================] - 0s 2ms/step - loss: 0.2607 - accuracy: 0.9091\n",
            "Epoch 142/200\n",
            "18/18 [==============================] - 0s 2ms/step - loss: 0.2235 - accuracy: 0.9205\n",
            "Epoch 143/200\n",
            "18/18 [==============================] - 0s 2ms/step - loss: 0.2467 - accuracy: 0.8864\n",
            "Epoch 144/200\n",
            "18/18 [==============================] - 0s 2ms/step - loss: 0.2082 - accuracy: 0.9318\n",
            "Epoch 145/200\n",
            "18/18 [==============================] - 0s 2ms/step - loss: 0.2182 - accuracy: 0.9205\n",
            "Epoch 146/200\n",
            "18/18 [==============================] - 0s 2ms/step - loss: 0.3486 - accuracy: 0.8750\n",
            "Epoch 147/200\n",
            "18/18 [==============================] - 0s 2ms/step - loss: 0.2470 - accuracy: 0.8977\n",
            "Epoch 148/200\n",
            "18/18 [==============================] - 0s 2ms/step - loss: 0.2292 - accuracy: 0.8864\n",
            "Epoch 149/200\n",
            "18/18 [==============================] - 0s 2ms/step - loss: 0.2057 - accuracy: 0.9091\n",
            "Epoch 150/200\n",
            "18/18 [==============================] - 0s 2ms/step - loss: 0.1833 - accuracy: 0.9432\n",
            "Epoch 151/200\n",
            "18/18 [==============================] - 0s 2ms/step - loss: 0.1911 - accuracy: 0.9318\n",
            "Epoch 152/200\n",
            "18/18 [==============================] - 0s 2ms/step - loss: 0.2700 - accuracy: 0.9091\n",
            "Epoch 153/200\n",
            "18/18 [==============================] - 0s 2ms/step - loss: 0.1566 - accuracy: 0.9545\n",
            "Epoch 154/200\n",
            "18/18 [==============================] - 0s 2ms/step - loss: 0.1596 - accuracy: 0.9545\n",
            "Epoch 155/200\n",
            "18/18 [==============================] - 0s 2ms/step - loss: 0.1020 - accuracy: 0.9773\n",
            "Epoch 156/200\n",
            "18/18 [==============================] - 0s 3ms/step - loss: 0.1654 - accuracy: 0.9205\n",
            "Epoch 157/200\n",
            "18/18 [==============================] - 0s 2ms/step - loss: 0.2515 - accuracy: 0.9091\n",
            "Epoch 158/200\n",
            "18/18 [==============================] - 0s 2ms/step - loss: 0.1823 - accuracy: 0.9205\n",
            "Epoch 159/200\n",
            "18/18 [==============================] - 0s 2ms/step - loss: 0.1763 - accuracy: 0.9432\n",
            "Epoch 160/200\n",
            "18/18 [==============================] - 0s 2ms/step - loss: 0.1609 - accuracy: 0.9432\n",
            "Epoch 161/200\n",
            "18/18 [==============================] - 0s 2ms/step - loss: 0.2070 - accuracy: 0.8977\n",
            "Epoch 162/200\n",
            "18/18 [==============================] - 0s 2ms/step - loss: 0.2661 - accuracy: 0.9091\n",
            "Epoch 163/200\n",
            "18/18 [==============================] - 0s 2ms/step - loss: 0.1655 - accuracy: 0.9318\n",
            "Epoch 164/200\n",
            "18/18 [==============================] - 0s 2ms/step - loss: 0.2520 - accuracy: 0.8636\n",
            "Epoch 165/200\n",
            "18/18 [==============================] - 0s 2ms/step - loss: 0.1646 - accuracy: 0.9432\n",
            "Epoch 166/200\n",
            "18/18 [==============================] - 0s 2ms/step - loss: 0.1707 - accuracy: 0.9205\n",
            "Epoch 167/200\n",
            "18/18 [==============================] - 0s 2ms/step - loss: 0.2109 - accuracy: 0.9318\n",
            "Epoch 168/200\n",
            "18/18 [==============================] - 0s 2ms/step - loss: 0.1649 - accuracy: 0.9432\n",
            "Epoch 169/200\n",
            "18/18 [==============================] - 0s 2ms/step - loss: 0.1760 - accuracy: 0.9318\n",
            "Epoch 170/200\n",
            "18/18 [==============================] - 0s 2ms/step - loss: 0.2502 - accuracy: 0.9205\n",
            "Epoch 171/200\n",
            "18/18 [==============================] - 0s 3ms/step - loss: 0.1799 - accuracy: 0.9318\n",
            "Epoch 172/200\n",
            "18/18 [==============================] - 0s 2ms/step - loss: 0.1935 - accuracy: 0.9205\n",
            "Epoch 173/200\n",
            "18/18 [==============================] - 0s 2ms/step - loss: 0.2494 - accuracy: 0.8864\n",
            "Epoch 174/200\n",
            "18/18 [==============================] - 0s 2ms/step - loss: 0.1850 - accuracy: 0.9318\n",
            "Epoch 175/200\n",
            "18/18 [==============================] - 0s 2ms/step - loss: 0.1669 - accuracy: 0.9318\n",
            "Epoch 176/200\n",
            "18/18 [==============================] - 0s 2ms/step - loss: 0.1935 - accuracy: 0.9432\n",
            "Epoch 177/200\n",
            "18/18 [==============================] - 0s 3ms/step - loss: 0.0885 - accuracy: 0.9773\n",
            "Epoch 178/200\n",
            "18/18 [==============================] - 0s 2ms/step - loss: 0.1519 - accuracy: 0.9318\n",
            "Epoch 179/200\n",
            "18/18 [==============================] - 0s 2ms/step - loss: 0.1513 - accuracy: 0.9318\n",
            "Epoch 180/200\n",
            "18/18 [==============================] - 0s 2ms/step - loss: 0.1351 - accuracy: 0.9659\n",
            "Epoch 181/200\n",
            "18/18 [==============================] - 0s 2ms/step - loss: 0.1786 - accuracy: 0.9318\n",
            "Epoch 182/200\n",
            "18/18 [==============================] - 0s 2ms/step - loss: 0.1608 - accuracy: 0.9091\n",
            "Epoch 183/200\n",
            "18/18 [==============================] - 0s 2ms/step - loss: 0.3475 - accuracy: 0.8409\n",
            "Epoch 184/200\n",
            "18/18 [==============================] - 0s 2ms/step - loss: 0.1573 - accuracy: 0.9318\n",
            "Epoch 185/200\n",
            "18/18 [==============================] - 0s 2ms/step - loss: 0.1737 - accuracy: 0.9432\n",
            "Epoch 186/200\n",
            "18/18 [==============================] - 0s 2ms/step - loss: 0.3070 - accuracy: 0.8750\n",
            "Epoch 187/200\n",
            "18/18 [==============================] - 0s 3ms/step - loss: 0.1354 - accuracy: 0.9545\n",
            "Epoch 188/200\n",
            "18/18 [==============================] - 0s 2ms/step - loss: 0.1035 - accuracy: 0.9432\n",
            "Epoch 189/200\n",
            "18/18 [==============================] - 0s 2ms/step - loss: 0.1794 - accuracy: 0.9318\n",
            "Epoch 190/200\n",
            "18/18 [==============================] - 0s 3ms/step - loss: 0.2020 - accuracy: 0.9318\n",
            "Epoch 191/200\n",
            "18/18 [==============================] - 0s 2ms/step - loss: 0.1895 - accuracy: 0.9205\n",
            "Epoch 192/200\n",
            "18/18 [==============================] - 0s 3ms/step - loss: 0.1324 - accuracy: 0.9545\n",
            "Epoch 193/200\n",
            "18/18 [==============================] - 0s 2ms/step - loss: 0.1521 - accuracy: 0.9432\n",
            "Epoch 194/200\n",
            "18/18 [==============================] - 0s 2ms/step - loss: 0.1820 - accuracy: 0.9318\n",
            "Epoch 195/200\n",
            "18/18 [==============================] - 0s 2ms/step - loss: 0.1385 - accuracy: 0.9773\n",
            "Epoch 196/200\n",
            "18/18 [==============================] - 0s 3ms/step - loss: 0.1546 - accuracy: 0.9432\n",
            "Epoch 197/200\n",
            "18/18 [==============================] - 0s 3ms/step - loss: 0.2908 - accuracy: 0.8750\n",
            "Epoch 198/200\n",
            "18/18 [==============================] - 0s 2ms/step - loss: 0.1940 - accuracy: 0.8977\n",
            "Epoch 199/200\n",
            "18/18 [==============================] - 0s 2ms/step - loss: 0.1460 - accuracy: 0.9318\n",
            "Epoch 200/200\n",
            "18/18 [==============================] - 0s 2ms/step - loss: 0.1882 - accuracy: 0.9205\n"
          ]
        }
      ]
    },
    {
      "cell_type": "code",
      "source": [
        "model.save('chatbot_model.h5',hist)\n",
        "print('done')"
      ],
      "metadata": {
        "id": "Jwf-HmPD4KAR",
        "colab": {
          "base_uri": "https://localhost:8080/"
        },
        "outputId": "dfb964a9-f9a6-4876-c5f5-b08dbd09392a"
      },
      "execution_count": null,
      "outputs": [
        {
          "output_type": "stream",
          "name": "stdout",
          "text": [
            "done\n"
          ]
        }
      ]
    },
    {
      "cell_type": "markdown",
      "source": [
        "CHATBOT "
      ],
      "metadata": {
        "id": "NDN-vGKNDcgz"
      }
    },
    {
      "cell_type": "code",
      "source": [
        "import random\n",
        "import json\n",
        "import pickle\n",
        "import numpy as np\n",
        "import nltk\n",
        "from nltk.stem import WordNetLemmatizer\n",
        "import tensorflow\n"
      ],
      "metadata": {
        "id": "ojOnEPzW4hT8"
      },
      "execution_count": null,
      "outputs": []
    },
    {
      "cell_type": "code",
      "source": [
        "from tensorflow.keras.models import Sequential,load_model\n",
        "from tensorflow.keras.layers import Dense, Activation, Dropout\n",
        "from tensorflow.keras.optimizers import SGD"
      ],
      "metadata": {
        "id": "zi6g_BW-Dh0L"
      },
      "execution_count": null,
      "outputs": []
    },
    {
      "cell_type": "code",
      "source": [
        "nltk.download('punkt')\n",
        "nltk.download('wordnet')\n",
        "nltk.download('omw-1.4')"
      ],
      "metadata": {
        "colab": {
          "base_uri": "https://localhost:8080/"
        },
        "id": "JTRmRj9yDjgn",
        "outputId": "16ce8e6b-3ae6-4c1e-9c5e-17e2e47ec7e3"
      },
      "execution_count": null,
      "outputs": [
        {
          "output_type": "stream",
          "name": "stderr",
          "text": [
            "[nltk_data] Downloading package punkt to /root/nltk_data...\n",
            "[nltk_data]   Package punkt is already up-to-date!\n",
            "[nltk_data] Downloading package wordnet to /root/nltk_data...\n",
            "[nltk_data]   Package wordnet is already up-to-date!\n",
            "[nltk_data] Downloading package omw-1.4 to /root/nltk_data...\n",
            "[nltk_data]   Package omw-1.4 is already up-to-date!\n"
          ]
        },
        {
          "output_type": "execute_result",
          "data": {
            "text/plain": [
              "True"
            ]
          },
          "metadata": {},
          "execution_count": 9
        }
      ]
    },
    {
      "cell_type": "code",
      "source": [
        "lemmatizer = WordNetLemmatizer()\n",
        "\n",
        "intents = json.loads(open('/content/intents.json').read())\n",
        "\n",
        "words = pickle.load(open('/content/words.pkl','rb'))\n",
        "classes = pickle.load(open('/content/classes.pkl','rb'))\n",
        "model = load_model('/content/chatbot_model.h5')"
      ],
      "metadata": {
        "id": "_xvBysawDlCt"
      },
      "execution_count": null,
      "outputs": []
    },
    {
      "cell_type": "code",
      "source": [
        "def clean_up_sentence(sentence):\n",
        "  sentence_words = nltk.word_tokenize(sentence) # message by user converted to tokens.\n",
        "  sentence_words = [lemmatizer.lemmatize(word) for word in sentence_words] # lemmatize the words to its grammatically simplest form.\n",
        "  return sentence_words"
      ],
      "metadata": {
        "id": "7sz8GJSwDraO"
      },
      "execution_count": null,
      "outputs": []
    },
    {
      "cell_type": "code",
      "source": [
        "def bag_of_words(sentence):\n",
        "  sentence_words = clean_up_sentence(sentence) # consisits of tokens created from users message\n",
        "  bag = [0] * len(words) # initialized the list with tokens \n",
        "  for w in sentence_words: \n",
        "    for i,word in enumerate(words): # enumerate adds a counter to an iterable eg. (words,start=0)\n",
        "      if(word == w):\n",
        "        bag[i] = 1 # updating the bag to 1 where we get the user token and words(tokens) as equal \n",
        "  return np.array(bag)"
      ],
      "metadata": {
        "id": "7JfXKNx7EBZy"
      },
      "execution_count": null,
      "outputs": []
    },
    {
      "cell_type": "code",
      "source": [
        "def predict_class(sentence):\n",
        "  bow = bag_of_words(sentence)\n",
        "  res = model.predict(np.array([bow]))[0]\n",
        "  ERROR_THRESHOLD = 0.25 # to bypass a specified number of pointer errors without terminating\n",
        "  results  = [[i,r] for i,r in enumerate(res) if r>ERROR_THRESHOLD]\n",
        "\n",
        "  results.sort(key=lambda x: x[1],reverse=True)\n",
        "  return_list = [] \n",
        "  for r in results:\n",
        "    return_list.append({'intent':classes[r[0]],'probability':str(r[1])})\n",
        "  return return_list"
      ],
      "metadata": {
        "id": "i2R4gT9FEjHS"
      },
      "execution_count": null,
      "outputs": []
    },
    {
      "cell_type": "code",
      "source": [
        "def get_response(intents_list, intents_json): # comparing the two the output of predict_class and intents_json\n",
        "  tag = intents_list[0]['intent']\n",
        "  list_of_intents = intents_json['intents']\n",
        "  for i in list_of_intents:\n",
        "    if i['tag'] == tag: \n",
        "      result = random.choice(i['responses']) # if get matched output randomly from the responses\n",
        "      break\n",
        "  return result"
      ],
      "metadata": {
        "id": "9ovA4_5jF0uH"
      },
      "execution_count": null,
      "outputs": []
    },
    {
      "cell_type": "code",
      "source": [
        "bye = (\"cya\", \"See you later\", \"Goodbye\",\"goodbye\",\"good bye\", \"I am Leaving\", \"Have a Good day\", \"bye\", \"cao\", \"see ya\")\n"
      ],
      "metadata": {
        "id": "_VcTyC0B6kl-"
      },
      "execution_count": null,
      "outputs": []
    },
    {
      "cell_type": "code",
      "source": [],
      "metadata": {
        "id": "zh2Wc3u4sew2"
      },
      "execution_count": null,
      "outputs": []
    },
    {
      "cell_type": "code",
      "source": [
        "\n",
        "k=1\n",
        "# global s\n",
        "# s=0\n",
        "while (k):\n",
        "  message = input(\"\")\n",
        "  ints = predict_class(message)\n",
        "  res = get_response(ints,intents)\n",
        "  for i in bye:\n",
        "    if message==i:\n",
        "      k=0\n",
        "  print(res)"
      ],
      "metadata": {
        "colab": {
          "base_uri": "https://localhost:8080/"
        },
        "id": "VMAmvfo_GVKR",
        "outputId": "22540908-f4f8-4ea5-e2be-e22b6ea48150"
      },
      "execution_count": null,
      "outputs": [
        {
          "output_type": "stream",
          "name": "stdout",
          "text": [
            "Hi\n",
            "1/1 [==============================] - 0s 87ms/step\n",
            "Hi. How are you feeling today?\n",
            "I am suffering from cold\n",
            "1/1 [==============================] - 0s 21ms/step\n",
            "You should take a sudafed tablet after your meal.\n",
            "I took sudafed tablet \n",
            "1/1 [==============================] - 0s 20ms/step\n",
            "Good, now take some rest and then let me know if you are feeling better after having sudafed tablet.\n",
            "I am still not feeling well\n",
            "1/1 [==============================] - 0s 18ms/step\n",
            "Ok, its not just a normal cough, you should consult a doctor.\n",
            "I want to consult a doctor\n",
            "1/1 [==============================] - 0s 21ms/step\n",
            "will you please book an appointment.\n",
            "Can you book it for me\n",
            "1/1 [==============================] - 0s 18ms/step\n",
            "yes please state time and doctor's name in the following format; 'Patient Name:  Date:  Doctor: Hospital:\n",
            "Patients Name: Avinash Date:30082002 Doctor: Abhi Hospital: Ruby\n",
            "1/1 [==============================] - 0s 24ms/step\n",
            "Hi. How are you feeling today?\n",
            "I am suffering from cough\n",
            "1/1 [==============================] - 0s 22ms/step\n",
            "You should take a spoon full of benadryl after your meal.\n",
            "I took benadryl\n",
            "1/1 [==============================] - 0s 19ms/step\n",
            "Good, now take some rest and then let me know if you are feeling better after having benadryl.\n",
            "not feeling well\n",
            "1/1 [==============================] - 0s 24ms/step\n",
            "Ok, its not just a normal cough, you should consult a doctor.\n",
            "I want to talk to doctor\n",
            "1/1 [==============================] - 0s 23ms/step\n",
            "you shall be called once the doctor is available. Do you want to book an appointment?\n",
            "Yes i want to book an appointment\n",
            "1/1 [==============================] - 0s 22ms/step\n",
            "yes please state time and doctor's name in the following format; 'Patient Name:  Date:  Doctor: Hospital:\n",
            "Patient Name: Avinash Date:20082002 Doctor : Abhay Hospital : VIIT\n",
            "1/1 [==============================] - 0s 19ms/step\n",
            "Hi. How are you feeling today?\n",
            "I am suffering from headache\n",
            "1/1 [==============================] - 0s 23ms/step\n",
            "what kind of headache do you have : 1. Migrane headache - intense throbbing pain on just one side of the head. 2. Cluster headaches - severe and recurrent headaches 3. Tension Headache - Ocassional;\n",
            "migrane\n",
            "1/1 [==============================] - 0s 22ms/step\n",
            "symptom noted. Migraines tend to be recurrent, and each attack may last up to 3 days. would you like to talk to a doctor?\n",
            "I want to talk to doctor\n",
            "1/1 [==============================] - 0s 19ms/step\n",
            "all doctors are attending patients. we shall revert to your request soon. Do you want to book an appointment?\n",
            "Can you book appointment for me\n",
            "1/1 [==============================] - 0s 22ms/step\n",
            "yes please state time and doctor's name in the following format; 'Patient Name:  Date:  Doctor: Hospital:\n",
            "Patient Name:Avinash Date: 10082002 Doctor: Abhyuday Hospital: TataMemorial\n",
            "1/1 [==============================] - 0s 18ms/step\n",
            "Hi. How are you feeling today?\n",
            "good\n",
            "1/1 [==============================] - 0s 21ms/step\n",
            "Good to see you again!\n",
            "Thank you\n",
            "1/1 [==============================] - 0s 26ms/step\n",
            "Hi. How are you feeling today?\n",
            "googbye\n",
            "1/1 [==============================] - 0s 20ms/step\n",
            "Hi. How are you feeling today?\n",
            "bye\n",
            "1/1 [==============================] - 0s 21ms/step\n",
            "Talk to you later\n"
          ]
        }
      ]
    },
    {
      "cell_type": "code",
      "source": [],
      "metadata": {
        "id": "0MXtcggfqO74"
      },
      "execution_count": null,
      "outputs": []
    },
    {
      "cell_type": "code",
      "source": [
        "\n"
      ],
      "metadata": {
        "id": "k9n8myCkHZqk"
      },
      "execution_count": null,
      "outputs": []
    },
    {
      "cell_type": "code",
      "source": [],
      "metadata": {
        "id": "1a_-ojEDt_8W"
      },
      "execution_count": null,
      "outputs": []
    }
  ]
}